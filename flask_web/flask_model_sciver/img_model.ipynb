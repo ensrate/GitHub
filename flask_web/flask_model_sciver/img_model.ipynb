{
 "cells": [
  {
   "cell_type": "code",
   "execution_count": 4,
   "metadata": {},
   "outputs": [
    {
     "name": "stdout",
     "output_type": "stream",
     "text": [
      "모델 정확도: 0.9202857142857143\n"
     ]
    },
    {
     "name": "stderr",
     "output_type": "stream",
     "text": [
      "c:\\Users\\user\\anaconda3\\envs\\flask_web\\lib\\site-packages\\sklearn\\linear_model\\_logistic.py:469: ConvergenceWarning: lbfgs failed to converge (status=1):\n",
      "STOP: TOTAL NO. of ITERATIONS REACHED LIMIT.\n",
      "\n",
      "Increase the number of iterations (max_iter) or scale the data as shown in:\n",
      "    https://scikit-learn.org/stable/modules/preprocessing.html\n",
      "Please also refer to the documentation for alternative solver options:\n",
      "    https://scikit-learn.org/stable/modules/linear_model.html#logistic-regression\n",
      "  n_iter_i = _check_optimize_result(\n"
     ]
    }
   ],
   "source": [
    "import numpy as np\n",
    "from sklearn.datasets import fetch_openml\n",
    "from sklearn.model_selection import train_test_split\n",
    "from sklearn.linear_model import LogisticRegression\n",
    "import pickle\n",
    "\n",
    "# MNIST 데이터셋 불러오기\n",
    "mnist = fetch_openml('mnist_784')\n",
    "\n",
    "# 데이터와 레이블 분리\n",
    "X, y = mnist[\"data\"], mnist[\"target\"]\n",
    "\n",
    "# 데이터 스케일 조정\n",
    "X = X / 255.0\n",
    "\n",
    "# 훈련/테스트 세트 분할\n",
    "X_train, X_test, y_train, y_test = train_test_split(X, y, test_size=0.2, random_state=42)\n",
    "\n",
    "# 로지스틱 회귀 모델 훈련\n",
    "model = LogisticRegression(max_iter=100)\n",
    "model.fit(X_train, y_train)\n",
    "\n",
    "# 모델의 정확도 평가\n",
    "accuracy = model.score(X_test, y_test)\n",
    "print(\"모델 정확도:\", accuracy)\n",
    "\n",
    "# 모델을 pickle 파일로 저장\n",
    "with open('./model/mnist_model.pkl', 'wb') as f:\n",
    "    pickle.dump(model, f)"
   ]
  },
  {
   "cell_type": "code",
   "execution_count": 13,
   "metadata": {},
   "outputs": [
    {
     "name": "stdout",
     "output_type": "stream",
     "text": [
      "예측된 숫자: ['5']\n"
     ]
    },
    {
     "name": "stderr",
     "output_type": "stream",
     "text": [
      "c:\\Users\\user\\anaconda3\\envs\\flask_web\\lib\\site-packages\\sklearn\\base.py:493: UserWarning: X does not have valid feature names, but LogisticRegression was fitted with feature names\n",
      "  warnings.warn(\n"
     ]
    }
   ],
   "source": [
    "import pickle\n",
    "import numpy as np\n",
    "\n",
    "# 저장된 모델 불러오기\n",
    "with open('./model/mnist_model.pkl', 'rb') as f:\n",
    "    model = pickle.load(f)\n",
    "\n",
    "# 이미지 예시 (784 픽셀)\n",
    "image = np.zeros((28, 28))  # 예시로 모든 픽셀이 0인 이미지 생성\n",
    "\n",
    "# 이미지를 1차원 배열로 펼치고 모델에 넣기 위해 reshape\n",
    "image_flat = image.reshape(1, -1)\n",
    "\n",
    "# 모델을 사용하여 이미지의 숫자 예측\n",
    "predicted_digit = model.predict(image_flat)\n",
    "\n",
    "print(\"예측된 숫자:\", predicted_digit)"
   ]
  }
 ],
 "metadata": {
  "kernelspec": {
   "display_name": "flask_web",
   "language": "python",
   "name": "python3"
  },
  "language_info": {
   "codemirror_mode": {
    "name": "ipython",
    "version": 3
   },
   "file_extension": ".py",
   "mimetype": "text/x-python",
   "name": "python",
   "nbconvert_exporter": "python",
   "pygments_lexer": "ipython3",
   "version": "3.10.13"
  }
 },
 "nbformat": 4,
 "nbformat_minor": 2
}
